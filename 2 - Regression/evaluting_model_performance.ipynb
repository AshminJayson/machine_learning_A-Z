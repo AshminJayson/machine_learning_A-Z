{
 "cells": [
  {
   "cell_type": "markdown",
   "metadata": {},
   "source": [
    "# Evaulating model performance\n",
    "\n",
    "## R Squared goodness of fit\n",
    "\n",
    "R^2 = 1 - (SSres / SStotal)\n",
    "\n",
    "Here: \n",
    "SSres is the error when considering the regression line (Residual sum of squares)\n",
    "SStotal is the error when considering the actual value as the average value of all data points (Total sum of squares)\n",
    "\n",
    "- R = 1 : Perfect Fit (Suspicious)\n",
    "- ~ 0.9 : Very Good Fit \n",
    "- < 0.7 : Not Great Fit\n",
    "- < 0.4 : Terrible Fit\n",
    "- < 0 : Model is useless\n",
    "\n",
    "## Adjusted R Squared\n",
    "\n",
    "When independent variables are added the SSres value will decrease or stay they same\n",
    "The value is calculate as R^2 = 1 - (1 - R^2) * (n - 1) / (n - k - 1)\n",
    "; k is the number of independent variables\n",
    "  n is the sample size \n",
    "\n",
    "This formula therefore penalizes the R square value as we go to keep adding unneeded independent variables"
   ]
  }
 ],
 "metadata": {
  "language_info": {
   "name": "python"
  },
  "orig_nbformat": 4
 },
 "nbformat": 4,
 "nbformat_minor": 2
}
