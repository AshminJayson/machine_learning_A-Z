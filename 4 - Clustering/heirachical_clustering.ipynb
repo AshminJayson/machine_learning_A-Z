{
 "cells": [
  {
   "cell_type": "code",
   "execution_count": null,
   "metadata": {},
   "outputs": [],
   "source": [
    "import pandas as pd\n",
    "import numpy as np\n",
    "import matplotlib.pyplot as plt"
   ]
  },
  {
   "cell_type": "code",
   "execution_count": null,
   "metadata": {},
   "outputs": [],
   "source": [
    "df = pd.read_csv('./Mall_Customers.csv')\n",
    "x = df.iloc[:, -2:].values"
   ]
  },
  {
   "cell_type": "code",
   "execution_count": null,
   "metadata": {},
   "outputs": [],
   "source": [
    "import scipy.cluster.hierarchy as sch\n",
    "dendogram = sch.dendrogram(sch.linkage(x, method='ward'))\n",
    "plt.title('Dendogram')\n",
    "plt.xlabel('Customers')\n",
    "plt.ylabel('Euclidean distance')"
   ]
  },
  {
   "cell_type": "code",
   "execution_count": null,
   "metadata": {},
   "outputs": [],
   "source": [
    "from sklearn.cluster import AgglomerativeClustering\n",
    "\n",
    "clusterer = AgglomerativeClustering(n_clusters=5, affinity='euclidean', linkage='ward')\n",
    "y_cluster = clusterer.fit_predict(x)"
   ]
  },
  {
   "cell_type": "code",
   "execution_count": null,
   "metadata": {},
   "outputs": [],
   "source": [
    "plt.scatter(x[y_cluster==0, 0], x[y_cluster == 0, 1], s = 100, c = 'red', label='Cluster 1')\n",
    "plt.scatter(x[y_cluster==1, 0], x[y_cluster == 1, 1], s = 100, c = 'blue', label='Cluster 2')\n",
    "plt.scatter(x[y_cluster==2, 0], x[y_cluster == 2, 1], s = 100, c = 'pink', label='Cluster 3')\n",
    "plt.scatter(x[y_cluster==3, 0], x[y_cluster == 3, 1], s = 100, c = 'magenta', label='Cluster 4')\n",
    "plt.scatter(x[y_cluster==4, 0], x[y_cluster == 4, 1], s = 100, c = 'black', label='Cluster 5')\n",
    "plt.title('Clusters of customers')\n",
    "plt.xlabel('Annual Income')\n",
    "plt.ylabel('Spending Score')\n",
    "plt.legend()\n",
    "plt.show()"
   ]
  }
 ],
 "metadata": {
  "kernelspec": {
   "display_name": "ml",
   "language": "python",
   "name": "python3"
  },
  "language_info": {
   "codemirror_mode": {
    "name": "ipython",
    "version": 3
   },
   "file_extension": ".py",
   "mimetype": "text/x-python",
   "name": "python",
   "nbconvert_exporter": "python",
   "pygments_lexer": "ipython3",
   "version": "3.11.2"
  }
 },
 "nbformat": 4,
 "nbformat_minor": 2
}
